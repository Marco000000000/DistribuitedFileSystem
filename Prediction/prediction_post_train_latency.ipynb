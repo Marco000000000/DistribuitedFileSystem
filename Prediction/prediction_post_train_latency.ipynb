{
 "cells": [
  {
   "cell_type": "code",
   "execution_count": 21,
   "metadata": {},
   "outputs": [],
   "source": [
    "import numpy as np\n",
    "import scipy.stats\n",
    "import pickle\n",
    "import time\n",
    "\n",
    "startTime=time.time()\n",
    "# Load the saved ARIMA model from the file\n",
    "with open('mean_Latency_model.pkl', 'rb') as file:\n",
    "    mean_loaded_model = pickle.load(file)\n",
    "with open('std_Latency_model.pkl', 'rb') as file:\n",
    "    std_loaded_model = pickle.load(file)\n",
    "\n"
   ]
  },
  {
   "cell_type": "code",
   "execution_count": 61,
   "metadata": {},
   "outputs": [
    {
     "name": "stdout",
     "output_type": "stream",
     "text": [
      "111\n",
      "[0.9849453029843844, 0.9849463543598702, 0.9842434185834392, 0.9837230395527315, 0.983271657631043, 0.9828550277747337, 0.9824621414595102, 0.9820972141209694, 0.9817592728274777, 0.9814477362121676, 0.9811620813354894, 0.9809017224546238, 0.9806660547423528, 0.980454457865356, 0.9802663002155184, 0.9952194042563843, 0.9990171415340934, 0.9999727489096328, 0.9999946176292238, 0.9988747179790793, 0.9972852748703684, 0.9944026677640904, 0.9903535865048927, 0.9852561910983454, 0.9792569744316886, 0.972520142041599, 0.965197991306808, 0.9574236451791698, 0.9493096102852564, 0.9409487335337013, 0.9324165079861039, 0.9237736698161996, 0.9150686764071132, 0.9063399049722531, 0.8976175250690104, 0.8889250568716928, 0.871477751407634, 0.8588201670812945, 0.8541179213984981, 0.8451490981529972, 0.8367888367040259, 0.8285258560486313, 0.835693204236927, 0.8348168616527986, 0.8347889134723598, 0.8348196537191628, 0.8348141331706378, 0.8348134221856378, 0.8348130529350215, 0.8348124538504936, 0.8348118862937324, 0.8348113207078136, 0.8348107536669205, 0.8348101868331488, 0.8348096200113451, 0.8348090531810765, 0.8348084863529064, 0.8348079195255477, 0.83480735269888, 0.8348067858729695, 0.8348062190478089]\n",
      "Probability of exceeding 1 time '8 second' of latency in 5 minute: 99.599875%\n",
      "Max instant Probability of exceeding 8 second of latency in 5 minute: 17.147414%\n",
      "Mean value predicted in 5 minute: 3.68 s\n"
     ]
    }
   ],
   "source": [
    "minute=5\n",
    "fiveSecondFromMinute=minute*12\n",
    "# Make predictions using the loaded model\n",
    "prediction_time=int((time.time()-startTime)/5)\n",
    "print(prediction_time)\n",
    "mean_pred = mean_loaded_model.predict(prediction_time,prediction_time+fiveSecondFromMinute)\n",
    "std_dev_pred = std_loaded_model.predict(prediction_time, prediction_time+fiveSecondFromMinute)\n",
    "\n",
    "# Define threshold and time interval\n",
    "threshold = 8\n",
    "\n",
    "\n",
    "# Calculate cumulative probabilities for each time step within the interval\n",
    "cumulative_probabilities = []\n",
    "for mean, std_dev in zip(mean_pred[:], std_dev_pred[:]):\n",
    "    probability = scipy.stats.norm.cdf(threshold, loc=mean, scale=std_dev)\n",
    "    cumulative_probabilities.append(probability)\n",
    "\n",
    "print(cumulative_probabilities)\n",
    "cumulative_probabilities=np.array(cumulative_probabilities)\n",
    "cumulative_probabilities = cumulative_probabilities[~np.isnan(cumulative_probabilities)]\n",
    "\n",
    "# Combine probabilities (e.g., take the maximum)\n",
    "combined_probability =1- np.prod(cumulative_probabilities)\n",
    "combined_probability_max=np.max(1-cumulative_probabilities)\n",
    "meanValuePredicted=np.mean(mean_pred)\n",
    "print(f\"Probability of exceeding 1 time '{threshold} second' of latency in {minute} minute: {combined_probability*100:.6f}%\")\n",
    "print(f\"Max instant Probability of exceeding {threshold} second of latency in {minute} minute: {combined_probability_max*100:.6f}%\")\n",
    "print(f\"Mean value predicted in {minute} minute: {meanValuePredicted:.2f} s\")\n"
   ]
  },
  {
   "cell_type": "code",
   "execution_count": 62,
   "metadata": {},
   "outputs": [
    {
     "data": {
      "text/plain": [
       "Text(0, 0.5, 'Latency (s)')"
      ]
     },
     "execution_count": 62,
     "metadata": {},
     "output_type": "execute_result"
    },
    {
     "data": {
      "image/png": "[encoded data removed]",
      "text/plain": [
       "<Figure size 432x288 with 1 Axes>"
      ]
     },
     "metadata": {
      "needs_background": "light"
     },
     "output_type": "display_data"
    }
   ],
   "source": [
    "from matplotlib import pyplot as plt\n",
    "\n",
    "\n",
    "plt.plot(mean_pred, marker='o')\n",
    "plt.title('Latency')\n",
    "plt.xlabel('Sample')\n",
    "plt.ylabel('Latency (s)')"
   ]
  }
 ],
 "metadata": {
  "kernelspec": {
   "display_name": "Python 3",
   "language": "python",
   "name": "python3"
  },
  "language_info": {
   "codemirror_mode": {
    "name": "ipython",
    "version": 3
   },
   "file_extension": ".py",
   "mimetype": "text/x-python",
   "name": "python",
   "nbconvert_exporter": "python",
   "pygments_lexer": "ipython3",
   "version": "3.9.9"
  }
 },
 "nbformat": 4,
 "nbformat_minor": 2
}
