{
 "cells": [
  {
   "cell_type": "code",
   "execution_count": 4,
   "metadata": {},
   "outputs": [],
   "source": [
    "import numpy as np\n",
    "import scipy.stats\n",
    "import pickle\n",
    "import time\n",
    "\n",
    "startTime=time.time()\n",
    "# Load the saved ARIMA model from the file\n",
    "with open('mean_Latency_model.pkl', 'rb') as file:\n",
    "    mean_loaded_model = pickle.load(file)\n",
    "with open('std_Latency_model.pkl', 'rb') as file:\n",
    "    std_loaded_model = pickle.load(file)\n",
    "\n"
   ]
  },
  {
   "cell_type": "code",
   "execution_count": 5,
   "metadata": {},
   "outputs": [
    {
     "name": "stdout",
     "output_type": "stream",
     "text": [
      "0\n",
      "[nan, 0.9963952333815717, 0.9963967939890431, 0.9963968176165432, 0.9963952405639308, 0.9963953616959421, 0.9964576913693581, 0.9964748981774385, 0.9964352708227768, 0.9964377858987575, 0.9964342033529251, 0.9964362867503582, 0.9964368668531823, 0.9965884907059259, 0.9977956811961509, 0.9983527124423478, 0.9988336039704377, 0.9992123405913061, 0.9994975829468737, 0.9997016400380777, 0.9998381326424156, 0.9999218605797084, 0.9999676813765173, 0.9999891731762307, 0.9999973079277901, 0.9999995695810155, 0.9968059348340492, 0.991201796527974, 0.9805851038209539, 0.96402689659493, 0.9763877734771104, 0.9755345777868866, 0.9755172806252991, 0.975538820401262, 0.9755394110490395, 0.9755426121677448, 0.975546044251666, 0.9755493451908298, 0.9755526650151455, 0.9755559879274489, 0.9755593117408672, 0.975562637409246, 0.9755659648269195, 0.9755609823280773, 0.9755619508775759, 0.9755618951637809, 0.9755617436396297, 0.9755616512626095, 0.9755615510449844, 0.9755614502711152, 0.9755613498738881, 0.9755612494269924, 0.9755611489786181, 0.9755610485343574, 0.97857075217066, 0.9800296996973155, 0.9787299049505066, 0.9788840375220856, 0.9788886145348694, 0.9788847153761014, 0.9788867083917532]\n",
      "Probability of exceeding 1 time '8 second' of latency in 5 minute: 57.827993%\n",
      "Max instant Probability of exceeding 8 second of latency in 5 minute: 3.597310%\n",
      "Mean value predicted in 5 minute: 3.68 s\n"
     ]
    },
    {
     "name": "stderr",
     "output_type": "stream",
     "text": [
      "C:\\Users\\Utente\\AppData\\Local\\Packages\\PythonSoftwareFoundation.Python.3.9_qbz5n2kfra8p0\\LocalCache\\local-packages\\Python39\\site-packages\\scipy\\stats\\_distn_infrastructure.py:1987: RuntimeWarning: divide by zero encountered in divide\n",
      "  x = np.asarray((x - loc)/scale, dtype=dtyp)\n"
     ]
    }
   ],
   "source": [
    "minute=5\n",
    "fiveSecondFromMinute=minute*12\n",
    "# Make predictions using the loaded model\n",
    "prediction_time=int((time.time()-startTime)/5)\n",
    "print(prediction_time)\n",
    "mean_pred = mean_loaded_model.predict(prediction_time,prediction_time+fiveSecondFromMinute)\n",
    "std_dev_pred = std_loaded_model.predict(prediction_time, prediction_time+fiveSecondFromMinute)\n",
    "\n",
    "# Define threshold and time interval\n",
    "threshold = 8\n",
    "\n",
    "\n",
    "# Calculate cumulative probabilities for each time step within the interval\n",
    "cumulative_probabilities = []\n",
    "for mean, std_dev in zip(mean_pred[:], std_dev_pred[:]):\n",
    "    probability = scipy.stats.norm.cdf(threshold, loc=mean, scale=std_dev)\n",
    "    cumulative_probabilities.append(probability)\n",
    "\n",
    "print(cumulative_probabilities)\n",
    "cumulative_probabilities=np.array(cumulative_probabilities)\n",
    "cumulative_probabilities = cumulative_probabilities[~np.isnan(cumulative_probabilities)]\n",
    "\n",
    "# Combine probabilities (e.g., take the maximum)\n",
    "combined_probability =1- np.prod(cumulative_probabilities)\n",
    "combined_probability_max=np.max(1-cumulative_probabilities)\n",
    "meanValuePredicted=np.mean(mean_pred)\n",
    "print(f\"Probability of exceeding 1 time '{threshold} second' of latency in {minute} minute: {combined_probability*100:.6f}%\")\n",
    "print(f\"Max instant Probability of exceeding {threshold} second of latency in {minute} minute: {combined_probability_max*100:.6f}%\")\n",
    "print(f\"Mean value predicted in {minute} minute: {meanValuePredicted:.2f} s\")\n"
   ]
  },
  {
   "cell_type": "code",
   "execution_count": 6,
   "metadata": {},
   "outputs": [
    {
     "data": {
      "text/plain": [
       "Text(0, 0.5, 'Latency (s)')"
      ]
     },
     "execution_count": 6,
     "metadata": {},
     "output_type": "execute_result"
    },
    {
     "data": {
      "image/png": "[encoded data removed]",
      "text/plain": [
       "<Figure size 432x288 with 1 Axes>"
      ]
     },
     "metadata": {
      "needs_background": "light"
     },
     "output_type": "display_data"
    }
   ],
   "source": [
    "from matplotlib import pyplot as plt\n",
    "\n",
    "\n",
    "plt.plot(mean_pred, marker='o')\n",
    "plt.title('Latency')\n",
    "plt.xlabel('Sample')\n",
    "plt.ylabel('Latency (s)')"
   ]
  }
 ],
 "metadata": {
  "kernelspec": {
   "display_name": "Python 3",
   "language": "python",
   "name": "python3"
  },
  "language_info": {
   "codemirror_mode": {
    "name": "ipython",
    "version": 3
   },
   "file_extension": ".py",
   "mimetype": "text/x-python",
   "name": "python",
   "nbconvert_exporter": "python",
   "pygments_lexer": "ipython3",
   "version": "3.9.9"
  }
 },
 "nbformat": 4,
 "nbformat_minor": 2
}
