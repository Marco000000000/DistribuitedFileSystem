{
 "cells": [
  {
   "cell_type": "code",
   "execution_count": 72,
   "metadata": {},
   "outputs": [],
   "source": [
    "import numpy as np\n",
    "import scipy.stats\n",
    "import pickle\n",
    "import time\n",
    "\n",
    "startTime=time.time()\n",
    "# Load the saved ARIMA model from the file\n",
    "with open('mean_Throughput_model.pkl', 'rb') as file:\n",
    "    mean_loaded_model = pickle.load(file)\n",
    "with open('std_Throughput_model.pkl', 'rb') as file:\n",
    "    std_loaded_model = pickle.load(file)\n",
    "\n"
   ]
  },
  {
   "cell_type": "code",
   "execution_count": 73,
   "metadata": {},
   "outputs": [
    {
     "name": "stdout",
     "output_type": "stream",
     "text": [
      "0\n",
      "[0.1428776380690439, 0.029337419652681322, 0.02769950069638302, 0.028496219329393127, 0.02852449785484132, 0.02740332175270233, 0.028392411309675424, 0.02750967672527878, 0.02845398917253942, 0.028276804060969368, 0.02677702865515195, 0.026470273349314958, 0.025682721062256705]\n",
      "Probability of subceeding 1 time '3 MB/s' of throughput in 1 minute: 38.854450%\n",
      "Max instant Probability of subceeding '3 MB/s' of throughput in 1 minute: 14.287764%\n",
      "Mean value predicted in 1 minute: 7.98 MB/s\n"
     ]
    }
   ],
   "source": [
    "minute=1\n",
    "fiveSecondFromMinute=minute*12\n",
    "# Make predictions using the loaded model\n",
    "prediction_time=int(time.time()-startTime)\n",
    "print(prediction_time)\n",
    "mean_pred = mean_loaded_model.predict(prediction_time,prediction_time+fiveSecondFromMinute, typ=\"levels\")\n",
    "std_dev_pred = std_loaded_model.predict(prediction_time, prediction_time+fiveSecondFromMinute, typ=\"levels\")\n",
    "\n",
    "# Define threshold and time interval\n",
    "threshold = 3\n",
    "\n",
    "\n",
    "# Calculate cumulative probabilities for each time step within the interval\n",
    "cumulative_probabilities = []\n",
    "for mean, std_dev in zip(mean_pred[:], std_dev_pred[:]):\n",
    "    probability = scipy.stats.norm.cdf(threshold, loc=mean, scale=std_dev)\n",
    "    cumulative_probabilities.append(probability)\n",
    "\n",
    "print(cumulative_probabilities)\n",
    "cumulative_probabilities=1-np.array(cumulative_probabilities)\n",
    "cumulative_probabilities = cumulative_probabilities[~np.isnan(cumulative_probabilities)]\n",
    "\n",
    "# Combine probabilities (e.g., take the maximum)\n",
    "combined_probability =1- np.prod(cumulative_probabilities)\n",
    "combined_probability_max=np.max(1-cumulative_probabilities)\n",
    "meanValuePredicted=np.mean(mean_pred)\n",
    "print(f\"Probability of subceeding 1 time '{threshold} MB/s' of throughput in {minute} minute: {combined_probability*100:.6f}%\")\n",
    "print(f\"Max instant Probability of subceeding '{threshold} MB/s' of throughput in {minute} minute: {combined_probability_max*100:.6f}%\")\n",
    "print(f\"Mean value predicted in {minute} minute: {meanValuePredicted/1000000:.2f} MB/s\")"
   ]
  },
  {
   "cell_type": "code",
   "execution_count": 74,
   "metadata": {},
   "outputs": [
    {
     "data": {
      "text/plain": [
       "Text(0, 0.5, 'Througput (MB/s)')"
      ]
     },
     "execution_count": 74,
     "metadata": {},
     "output_type": "execute_result"
    },
    {
     "data": {
      "image/png": "[encoded data removed]",
      "text/plain": [
       "<Figure size 432x288 with 1 Axes>"
      ]
     },
     "metadata": {
      "needs_background": "light"
     },
     "output_type": "display_data"
    }
   ],
   "source": [
    "from matplotlib import pyplot as plt\n",
    "\n",
    "\n",
    "plt.plot(mean_pred, marker='o')\n",
    "plt.title('Througput')\n",
    "plt.xlabel('Sample')\n",
    "plt.ylabel('Througput (MB/s)')"
   ]
  }
 ],
 "metadata": {
  "kernelspec": {
   "display_name": "Python 3",
   "language": "python",
   "name": "python3"
  },
  "language_info": {
   "codemirror_mode": {
    "name": "ipython",
    "version": 3
   },
   "file_extension": ".py",
   "mimetype": "text/x-python",
   "name": "python",
   "nbconvert_exporter": "python",
   "pygments_lexer": "ipython3",
   "version": "3.9.9"
  }
 },
 "nbformat": 4,
 "nbformat_minor": 2
}
