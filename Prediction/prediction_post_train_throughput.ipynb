{
 "cells": [
  {
   "cell_type": "code",
   "execution_count": 75,
   "metadata": {},
   "outputs": [],
   "source": [
    "import numpy as np\n",
    "import scipy.stats\n",
    "import pickle\n",
    "import time\n",
    "\n",
    "startTime=time.time()\n",
    "# Load the saved ARIMA model from the file\n",
    "with open('mean_Throughput_model.pkl', 'rb') as file:\n",
    "    mean_loaded_model = pickle.load(file)\n",
    "with open('std_Throughput_model.pkl', 'rb') as file:\n",
    "    std_loaded_model = pickle.load(file)\n",
    "\n"
   ]
  },
  {
   "cell_type": "code",
   "execution_count": 84,
   "metadata": {},
   "outputs": [
    {
     "name": "stdout",
     "output_type": "stream",
     "text": [
      "25\n",
      "[0.14986515248297944, 0.1532737139287289, 0.15883258049390203, 0.16503431879031155, 0.17093830987277797, 0.1767957568564602, 0.183855166037575, 0.19038347560279328, 0.196957047920099, 0.20342050405880574, 0.20970123618637576, 0.2159239403865903, 0.22208999682912706]\n",
      "Probability of subceeding 1 time '3000000 MB/s' of throughput in 1 minute: 92.969767%\n",
      "Max instant Probability of subceeding '3000000 MB/s' of throughput in 1 minute: 22.209000%\n",
      "Mean value predicted in 1 minute: 7.59 MB/s\n"
     ]
    }
   ],
   "source": [
    "minute=1\n",
    "fiveSecondFromMinute=minute*12\n",
    "# Make predictions using the loaded model\n",
    "prediction_time=int((time.time()-startTime)/5)\n",
    "print(prediction_time)\n",
    "mean_pred = mean_loaded_model.predict(prediction_time,prediction_time+fiveSecondFromMinute, typ=\"levels\")\n",
    "std_dev_pred = std_loaded_model.predict(prediction_time, prediction_time+fiveSecondFromMinute, typ=\"levels\")\n",
    "\n",
    "# Define threshold and time interval\n",
    "threshold = 3*1000000\n",
    "\n",
    "\n",
    "# Calculate cumulative probabilities for each time step within the interval\n",
    "cumulative_probabilities = []\n",
    "for mean, std_dev in zip(mean_pred[:], std_dev_pred[:]):\n",
    "    probability = scipy.stats.norm.cdf(threshold, loc=mean, scale=std_dev)\n",
    "    cumulative_probabilities.append(probability)\n",
    "\n",
    "print(cumulative_probabilities)\n",
    "cumulative_probabilities=1-np.array(cumulative_probabilities)\n",
    "cumulative_probabilities = cumulative_probabilities[~np.isnan(cumulative_probabilities)]\n",
    "\n",
    "# Combine probabilities (e.g., take the maximum)\n",
    "combined_probability =1- np.prod(cumulative_probabilities)\n",
    "combined_probability_max=np.max(1-cumulative_probabilities)\n",
    "meanValuePredicted=np.mean(mean_pred)\n",
    "print(f\"Probability of subceeding 1 time '{threshold} MB/s' of throughput in {minute} minute: {combined_probability*100:.6f}%\")\n",
    "print(f\"Max instant Probability of subceeding '{threshold} MB/s' of throughput in {minute} minute: {combined_probability_max*100:.6f}%\")\n",
    "print(f\"Mean value predicted in {minute} minute: {meanValuePredicted/1000000:.2f} MB/s\")"
   ]
  },
  {
   "cell_type": "code",
   "execution_count": 85,
   "metadata": {},
   "outputs": [
    {
     "data": {
      "text/plain": [
       "Text(0, 0.5, 'Througput (MB/s)')"
      ]
     },
     "execution_count": 85,
     "metadata": {},
     "output_type": "execute_result"
    },
    {
     "data": {
      "image/png": "[encoded data removed]",
      "text/plain": [
       "<Figure size 432x288 with 1 Axes>"
      ]
     },
     "metadata": {
      "needs_background": "light"
     },
     "output_type": "display_data"
    }
   ],
   "source": [
    "from matplotlib import pyplot as plt\n",
    "\n",
    "\n",
    "plt.plot(mean_pred, marker='o')\n",
    "plt.title('Througput')\n",
    "plt.xlabel('Sample')\n",
    "plt.ylabel('Througput (MB/s)')"
   ]
  }
 ],
 "metadata": {
  "kernelspec": {
   "display_name": "Python 3",
   "language": "python",
   "name": "python3"
  },
  "language_info": {
   "codemirror_mode": {
    "name": "ipython",
    "version": 3
   },
   "file_extension": ".py",
   "mimetype": "text/x-python",
   "name": "python",
   "nbconvert_exporter": "python",
   "pygments_lexer": "ipython3",
   "version": "3.9.9"
  }
 },
 "nbformat": 4,
 "nbformat_minor": 2
}
