{
 "cells": [
  {
   "cell_type": "code",
   "execution_count": 25,
   "metadata": {},
   "outputs": [],
   "source": [
    "import numpy as np\n",
    "import scipy.stats\n",
    "import pickle\n",
    "import time\n",
    "\n",
    "startTime=time.time()\n",
    "# Load the saved ARIMA model from the file\n",
    "with open('mean_Throughput_model.pkl', 'rb') as file:\n",
    "    mean_loaded_model = pickle.load(file)\n",
    "with open('std_Throughput_model.pkl', 'rb') as file:\n",
    "    std_loaded_model = pickle.load(file)\n",
    "\n"
   ]
  },
  {
   "cell_type": "code",
   "execution_count": 53,
   "metadata": {},
   "outputs": [
    {
     "name": "stdout",
     "output_type": "stream",
     "text": [
      "13\n",
      "[0.8927439432501258, 0.8903752456649358, 0.8874432367443009, 0.8826821594909757, 0.8786874152979715, 0.8745199800916998, 0.8708710231639609, 0.867369979786351, 0.8639161239390647, 0.860474341782602, 0.8570091033333784, 0.853562520683548, 0.8501348475170205]\n",
      "Probability of subceeding 1 time '3 MB/s' of throughput in 1 minute: 83.291965%\n",
      "Max instant Probability of subceeding '3 MB/s' of throughput in 1 minute: 14.986515%\n",
      "Mean value predicted in 1 minute: 8.26 MB/s\n"
     ]
    }
   ],
   "source": [
    "minute=1\n",
    "fiveSecondFromMinute=minute*12\n",
    "# Make predictions using the loaded model\n",
    "prediction_time=int((time.time()-startTime)/5)\n",
    "print(prediction_time)\n",
    "mean_pred = mean_loaded_model.predict(prediction_time,prediction_time+fiveSecondFromMinute, typ=\"levels\")/1000000\n",
    "std_dev_pred = std_loaded_model.predict(prediction_time, prediction_time+fiveSecondFromMinute, typ=\"levels\")/1000000\n",
    "\n",
    "# Define threshold and time interval\n",
    "threshold = 3\n",
    "\n",
    "\n",
    "# Calculate cumulative probabilities for each time step within the interval\n",
    "cumulative_probabilities = []\n",
    "for mean, std_dev in zip(mean_pred[:], std_dev_pred[:]):\n",
    "    probability =1- scipy.stats.norm.cdf(threshold, loc=mean, scale=std_dev)\n",
    "    cumulative_probabilities.append(probability)\n",
    "\n",
    "print(cumulative_probabilities)\n",
    "cumulative_probabilities=np.array(cumulative_probabilities)\n",
    "cumulative_probabilities = cumulative_probabilities[~np.isnan(cumulative_probabilities)]\n",
    "\n",
    "# Combine probabilities (e.g., take the maximum)\n",
    "combined_probability =1- np.prod(cumulative_probabilities)\n",
    "combined_probability_max=np.max(1-cumulative_probabilities)\n",
    "meanValuePredicted=np.mean(mean_pred)\n",
    "print(f\"Probability of subceeding 1 time '{threshold} MB/s' of throughput in {minute} minute: {combined_probability*100:.6f}%\")\n",
    "print(f\"Max instant Probability of subceeding '{threshold} MB/s' of throughput in {minute} minute: {combined_probability_max*100:.6f}%\")\n",
    "print(f\"Mean value predicted in {minute} minute: {meanValuePredicted:.2f} MB/s\")"
   ]
  },
  {
   "cell_type": "code",
   "execution_count": 54,
   "metadata": {},
   "outputs": [
    {
     "data": {
      "text/plain": [
       "Text(0, 0.5, 'Througput (MB/s)')"
      ]
     },
     "execution_count": 54,
     "metadata": {},
     "output_type": "execute_result"
    },
    {
     "data": {
      "image/png": "[encoded data removed]",
      "text/plain": [
       "<Figure size 432x288 with 1 Axes>"
      ]
     },
     "metadata": {
      "needs_background": "light"
     },
     "output_type": "display_data"
    }
   ],
   "source": [
    "from matplotlib import pyplot as plt\n",
    "\n",
    "\n",
    "plt.plot(mean_pred, marker='o')\n",
    "plt.title('Througput')\n",
    "plt.xlabel('Sample')\n",
    "plt.ylabel('Througput (MB/s)')\n",
    "plt.plot(std_dev_pred, marker='o')\n",
    "plt.title('Througput')\n",
    "plt.xlabel('Sample')\n",
    "plt.ylabel('Througput (MB/s)')"
   ]
  }
 ],
 "metadata": {
  "kernelspec": {
   "display_name": "Python 3",
   "language": "python",
   "name": "python3"
  },
  "language_info": {
   "codemirror_mode": {
    "name": "ipython",
    "version": 3
   },
   "file_extension": ".py",
   "mimetype": "text/x-python",
   "name": "python",
   "nbconvert_exporter": "python",
   "pygments_lexer": "ipython3",
   "version": "3.9.9"
  }
 },
 "nbformat": 4,
 "nbformat_minor": 2
}
